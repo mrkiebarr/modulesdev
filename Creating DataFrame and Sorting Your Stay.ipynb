{
 "cells": [
  {
   "cell_type": "code",
   "execution_count": 11,
   "id": "c91a6c65-5cea-4b56-b4fc-984087c32760",
   "metadata": {},
   "outputs": [],
   "source": [
    "import pandas as pd"
   ]
  },
  {
   "cell_type": "markdown",
   "id": "b0865e33-10ed-402c-a5ab-e7df482c5446",
   "metadata": {},
   "source": [
    "In this notebook, you will learn how to create a DataFrame as well as perform basic functions for manipulating it."
   ]
  },
  {
   "cell_type": "markdown",
   "id": "dfc64818-a8db-48ef-b7e1-e34f28d3ecb6",
   "metadata": {},
   "source": [
    "Scenario: You and your friends plan a trip to UK, specifically London. Your friend, Bob, wants you to check out hotels in the city. Ideally, he wants to consider the rough cost for spending 3 nights as well as how well the hotel is rated. He believes that the more expensive a hotel is, the better your experience will be. You decide to create a Dataframe based on your search."
   ]
  },
  {
   "cell_type": "markdown",
   "id": "24fc2d86-af7e-4560-8488-b7e6217f2581",
   "metadata": {},
   "source": [
    "The information are as follows (Name, Cost, Rating)\n",
    "- Thistle London Trafalgar Square, $212, 8.4\n",
    "- The Royal Horseguards, $245, 9.0\n",
    "- The Clermont London, $253, 9.2\n",
    "- Apex Temple Court Hotel, $192, 9.4\n",
    "- Tower Suites by Blue Orchid, $170, 9.2"
   ]
  },
  {
   "cell_type": "markdown",
   "id": "f8eb659d-2e42-4d11-880d-ead97aa66238",
   "metadata": {},
   "source": [
    "## Creating a DataFrame"
   ]
  },
  {
   "cell_type": "markdown",
   "id": "58c0499d-6765-4993-a4b3-f5b52a152324",
   "metadata": {},
   "source": [
    "Name your dataframe, hotel, and assign column names with values based on your search. Note: There's several ways to construct a dataframe. This is one of them."
   ]
  },
  {
   "cell_type": "code",
   "execution_count": 73,
   "id": "da6e17f8-7312-4f8c-9ff7-95bf93a7bef1",
   "metadata": {},
   "outputs": [],
   "source": [
    "hotel = pd.DataFrame({\n",
    "    'Name': ['The Clermont London', 'Tower Suites by Blue Orchid', 'The Royal Horseguards', 'Thistle London Trafalgar Square', 'Apex Temple Court Hotel'],\n",
    "    'Cost ($)': [253, 170, 245, 212, 192],\n",
    "    'Rating': [9.2, 9.2, 9.0, 8.4, 9.4]\n",
    "})"
   ]
  },
  {
   "cell_type": "markdown",
   "id": "c5ce0211-a842-49ea-b35c-97e21973ed52",
   "metadata": {},
   "source": [
    "uncomment below [remove the # next to the dataframe name] to show the dataframe you created"
   ]
  },
  {
   "cell_type": "code",
   "execution_count": 40,
   "id": "610d2c7b-a814-440e-889e-2af3de80660c",
   "metadata": {},
   "outputs": [
    {
     "data": {
      "text/html": [
       "<div>\n",
       "<style scoped>\n",
       "    .dataframe tbody tr th:only-of-type {\n",
       "        vertical-align: middle;\n",
       "    }\n",
       "\n",
       "    .dataframe tbody tr th {\n",
       "        vertical-align: top;\n",
       "    }\n",
       "\n",
       "    .dataframe thead th {\n",
       "        text-align: right;\n",
       "    }\n",
       "</style>\n",
       "<table border=\"1\" class=\"dataframe\">\n",
       "  <thead>\n",
       "    <tr style=\"text-align: right;\">\n",
       "      <th></th>\n",
       "      <th>Name</th>\n",
       "      <th>Cost ($)</th>\n",
       "      <th>Rating</th>\n",
       "    </tr>\n",
       "  </thead>\n",
       "  <tbody>\n",
       "    <tr>\n",
       "      <th>0</th>\n",
       "      <td>The Clermont London</td>\n",
       "      <td>253</td>\n",
       "      <td>9.2</td>\n",
       "    </tr>\n",
       "    <tr>\n",
       "      <th>1</th>\n",
       "      <td>Tower Suites by Blue Orchid</td>\n",
       "      <td>170</td>\n",
       "      <td>9.2</td>\n",
       "    </tr>\n",
       "    <tr>\n",
       "      <th>2</th>\n",
       "      <td>The Royal Horseguards</td>\n",
       "      <td>245</td>\n",
       "      <td>9.0</td>\n",
       "    </tr>\n",
       "    <tr>\n",
       "      <th>3</th>\n",
       "      <td>Thistle London Trafalgar Square</td>\n",
       "      <td>212</td>\n",
       "      <td>8.4</td>\n",
       "    </tr>\n",
       "    <tr>\n",
       "      <th>4</th>\n",
       "      <td>Apex Temple Court Hotel</td>\n",
       "      <td>192</td>\n",
       "      <td>9.4</td>\n",
       "    </tr>\n",
       "  </tbody>\n",
       "</table>\n",
       "</div>"
      ],
      "text/plain": [
       "                              Name  Cost ($)  Rating\n",
       "0              The Clermont London       253     9.2\n",
       "1      Tower Suites by Blue Orchid       170     9.2\n",
       "2            The Royal Horseguards       245     9.0\n",
       "3  Thistle London Trafalgar Square       212     8.4\n",
       "4          Apex Temple Court Hotel       192     9.4"
      ]
     },
     "execution_count": 40,
     "metadata": {},
     "output_type": "execute_result"
    }
   ],
   "source": [
    "# hotel"
   ]
  },
  {
   "cell_type": "markdown",
   "id": "908fc2f7-21fd-4466-a4c4-cd029e1bd7b3",
   "metadata": {},
   "source": [
    "## Adding a new column"
   ]
  },
  {
   "cell_type": "markdown",
   "id": "03617789-56e4-4b8c-9281-2ad24d8385e0",
   "metadata": {},
   "source": [
    "Remember, Bob wants you to check how much the hotel is going to cost for 3 nights. You decide to add a column where cost x 3 nights. You can do this by dataframe[new column] = dataframe[existing column] * 3"
   ]
  },
  {
   "cell_type": "code",
   "execution_count": 86,
   "id": "23b96925-adaa-403e-b061-969376e01970",
   "metadata": {},
   "outputs": [],
   "source": [
    "hotel['Cost for three nights'] = hotel['Cost ($)'] * 3"
   ]
  },
  {
   "cell_type": "code",
   "execution_count": 88,
   "id": "66045741-abba-4349-8e22-09f505ec67e7",
   "metadata": {},
   "outputs": [
    {
     "data": {
      "text/html": [
       "<div>\n",
       "<style scoped>\n",
       "    .dataframe tbody tr th:only-of-type {\n",
       "        vertical-align: middle;\n",
       "    }\n",
       "\n",
       "    .dataframe tbody tr th {\n",
       "        vertical-align: top;\n",
       "    }\n",
       "\n",
       "    .dataframe thead th {\n",
       "        text-align: right;\n",
       "    }\n",
       "</style>\n",
       "<table border=\"1\" class=\"dataframe\">\n",
       "  <thead>\n",
       "    <tr style=\"text-align: right;\">\n",
       "      <th></th>\n",
       "      <th>Name</th>\n",
       "      <th>Cost ($)</th>\n",
       "      <th>Rating</th>\n",
       "      <th>Cost for three nights</th>\n",
       "    </tr>\n",
       "  </thead>\n",
       "  <tbody>\n",
       "    <tr>\n",
       "      <th>0</th>\n",
       "      <td>The Clermont London</td>\n",
       "      <td>253</td>\n",
       "      <td>9.2</td>\n",
       "      <td>759</td>\n",
       "    </tr>\n",
       "    <tr>\n",
       "      <th>1</th>\n",
       "      <td>Tower Suites by Blue Orchid</td>\n",
       "      <td>170</td>\n",
       "      <td>9.2</td>\n",
       "      <td>510</td>\n",
       "    </tr>\n",
       "    <tr>\n",
       "      <th>2</th>\n",
       "      <td>The Royal Horseguards</td>\n",
       "      <td>245</td>\n",
       "      <td>9.0</td>\n",
       "      <td>735</td>\n",
       "    </tr>\n",
       "    <tr>\n",
       "      <th>3</th>\n",
       "      <td>Thistle London Trafalgar Square</td>\n",
       "      <td>212</td>\n",
       "      <td>8.4</td>\n",
       "      <td>636</td>\n",
       "    </tr>\n",
       "    <tr>\n",
       "      <th>4</th>\n",
       "      <td>Apex Temple Court Hotel</td>\n",
       "      <td>192</td>\n",
       "      <td>9.4</td>\n",
       "      <td>576</td>\n",
       "    </tr>\n",
       "  </tbody>\n",
       "</table>\n",
       "</div>"
      ],
      "text/plain": [
       "                              Name  Cost ($)  Rating  Cost for three nights\n",
       "0              The Clermont London       253     9.2                    759\n",
       "1      Tower Suites by Blue Orchid       170     9.2                    510\n",
       "2            The Royal Horseguards       245     9.0                    735\n",
       "3  Thistle London Trafalgar Square       212     8.4                    636\n",
       "4          Apex Temple Court Hotel       192     9.4                    576"
      ]
     },
     "execution_count": 88,
     "metadata": {},
     "output_type": "execute_result"
    }
   ],
   "source": [
    "hotel"
   ]
  },
  {
   "cell_type": "markdown",
   "id": "6d91f21d-dc16-469d-981d-a0d760e6c93c",
   "metadata": {},
   "source": [
    "## Sorting rows"
   ]
  },
  {
   "cell_type": "markdown",
   "id": "54563dbe-c58d-41e6-966e-5022b9c7c9b6",
   "metadata": {},
   "source": [
    "Now using sort_values([column name], ascending=False), sort the entries by price."
   ]
  },
  {
   "cell_type": "code",
   "execution_count": 95,
   "id": "6bd542ed-5d16-418e-be5d-c6f7e8d08be7",
   "metadata": {},
   "outputs": [
    {
     "data": {
      "text/html": [
       "<div>\n",
       "<style scoped>\n",
       "    .dataframe tbody tr th:only-of-type {\n",
       "        vertical-align: middle;\n",
       "    }\n",
       "\n",
       "    .dataframe tbody tr th {\n",
       "        vertical-align: top;\n",
       "    }\n",
       "\n",
       "    .dataframe thead th {\n",
       "        text-align: right;\n",
       "    }\n",
       "</style>\n",
       "<table border=\"1\" class=\"dataframe\">\n",
       "  <thead>\n",
       "    <tr style=\"text-align: right;\">\n",
       "      <th></th>\n",
       "      <th>Name</th>\n",
       "      <th>Cost ($)</th>\n",
       "      <th>Rating</th>\n",
       "      <th>Cost for three nights</th>\n",
       "    </tr>\n",
       "  </thead>\n",
       "  <tbody>\n",
       "    <tr>\n",
       "      <th>0</th>\n",
       "      <td>The Clermont London</td>\n",
       "      <td>253</td>\n",
       "      <td>9.2</td>\n",
       "      <td>759</td>\n",
       "    </tr>\n",
       "    <tr>\n",
       "      <th>2</th>\n",
       "      <td>The Royal Horseguards</td>\n",
       "      <td>245</td>\n",
       "      <td>9.0</td>\n",
       "      <td>735</td>\n",
       "    </tr>\n",
       "    <tr>\n",
       "      <th>3</th>\n",
       "      <td>Thistle London Trafalgar Square</td>\n",
       "      <td>212</td>\n",
       "      <td>8.4</td>\n",
       "      <td>636</td>\n",
       "    </tr>\n",
       "    <tr>\n",
       "      <th>4</th>\n",
       "      <td>Apex Temple Court Hotel</td>\n",
       "      <td>192</td>\n",
       "      <td>9.4</td>\n",
       "      <td>576</td>\n",
       "    </tr>\n",
       "    <tr>\n",
       "      <th>1</th>\n",
       "      <td>Tower Suites by Blue Orchid</td>\n",
       "      <td>170</td>\n",
       "      <td>9.2</td>\n",
       "      <td>510</td>\n",
       "    </tr>\n",
       "  </tbody>\n",
       "</table>\n",
       "</div>"
      ],
      "text/plain": [
       "                              Name  Cost ($)  Rating  Cost for three nights\n",
       "0              The Clermont London       253     9.2                    759\n",
       "2            The Royal Horseguards       245     9.0                    735\n",
       "3  Thistle London Trafalgar Square       212     8.4                    636\n",
       "4          Apex Temple Court Hotel       192     9.4                    576\n",
       "1      Tower Suites by Blue Orchid       170     9.2                    510"
      ]
     },
     "execution_count": 95,
     "metadata": {},
     "output_type": "execute_result"
    }
   ],
   "source": [
    "hotel.sort_values('Cost for three nights', ascending=False)"
   ]
  },
  {
   "cell_type": "markdown",
   "id": "0a75300a-f004-4001-9330-7615e167d70f",
   "metadata": {},
   "source": [
    "What does adding 'ascending=False' do to the ordering of the rows? Type your answer in the cell below."
   ]
  },
  {
   "cell_type": "markdown",
   "id": "4cd7c3a4-a61a-488f-9d92-a61d69150ed2",
   "metadata": {},
   "source": []
  },
  {
   "cell_type": "markdown",
   "id": "7fefc553-fb03-49ba-a097-047803294b74",
   "metadata": {},
   "source": [
    "Which hotel is the cheapest? Which hotel is the most expensive to stay in?"
   ]
  },
  {
   "cell_type": "markdown",
   "id": "378558ce-c9d4-4bc0-8214-5698a959ce5f",
   "metadata": {},
   "source": []
  },
  {
   "cell_type": "code",
   "execution_count": null,
   "id": "7fd4e9f5-ab2a-4911-8bf6-31dec95cbfc7",
   "metadata": {},
   "outputs": [],
   "source": [
    "## Congrats! You've now helped your friend, Bob, figure out where y"
   ]
  }
 ],
 "metadata": {
  "kernelspec": {
   "display_name": "Python 3 (ipykernel)",
   "language": "python",
   "name": "python3"
  },
  "language_info": {
   "codemirror_mode": {
    "name": "ipython",
    "version": 3
   },
   "file_extension": ".py",
   "mimetype": "text/x-python",
   "name": "python",
   "nbconvert_exporter": "python",
   "pygments_lexer": "ipython3",
   "version": "3.12.4"
  }
 },
 "nbformat": 4,
 "nbformat_minor": 5
}
